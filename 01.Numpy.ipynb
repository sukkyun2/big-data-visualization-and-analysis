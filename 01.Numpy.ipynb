{
  "nbformat": 4,
  "nbformat_minor": 0,
  "metadata": {
    "colab": {
      "provenance": [],
      "toc_visible": true,
      "authorship_tag": "ABX9TyNeWec5u872kIQkumo0mfLI",
      "include_colab_link": true
    },
    "kernelspec": {
      "name": "python3",
      "display_name": "Python 3"
    },
    "language_info": {
      "name": "python"
    }
  },
  "cells": [
    {
      "cell_type": "markdown",
      "metadata": {
        "id": "view-in-github",
        "colab_type": "text"
      },
      "source": [
        "<a href=\"https://colab.research.google.com/github/sukkyun2/big-data-visualization-and-analysis/blob/main/01.Numpy.ipynb\" target=\"_parent\"><img src=\"https://colab.research.google.com/assets/colab-badge.svg\" alt=\"Open In Colab\"/></a>"
      ]
    },
    {
      "cell_type": "markdown",
      "source": [
        "## Practical Exercises"
      ],
      "metadata": {
        "id": "wuI6icvMITkc"
      }
    },
    {
      "cell_type": "code",
      "source": [
        "import numpy as np"
      ],
      "metadata": {
        "id": "ewtDBzGxIWDH"
      },
      "execution_count": null,
      "outputs": []
    },
    {
      "cell_type": "markdown",
      "source": [
        "### Task 1\n",
        "- Create an array filled with a single value (55)  \n",
        "- Hint: Use np.full() function"
      ],
      "metadata": {
        "id": "jMD0V5cYIXY6"
      }
    },
    {
      "cell_type": "code",
      "source": [
        "zeros = np.zeros((3, 3))  # 3X3 0으로 초기화\n",
        "\n",
        "zeros.fill(55)  # 3X3 55로 초기화\n",
        "zeros"
      ],
      "metadata": {
        "colab": {
          "base_uri": "https://localhost:8080/"
        },
        "id": "AFlmeBMAJGg3",
        "outputId": "cb1a1b65-7364-4c38-ec89-02ec538801c6"
      },
      "execution_count": null,
      "outputs": [
        {
          "output_type": "execute_result",
          "data": {
            "text/plain": [
              "array([[55., 55., 55.],\n",
              "       [55., 55., 55.],\n",
              "       [55., 55., 55.]])"
            ]
          },
          "metadata": {},
          "execution_count": 5
        }
      ]
    },
    {
      "cell_type": "markdown",
      "source": [
        "### Task 2\n",
        "- Create a null vector of size 10 but the fifth value which is 1"
      ],
      "metadata": {
        "id": "CvTr4ge7InBu"
      }
    },
    {
      "cell_type": "code",
      "source": [
        "zeros = np.zeros(10)  # 모두 0으로 초기화\n",
        "zeros[4] = 1  # 4번째 인덱스에 1대입\n",
        "\n",
        "zeros"
      ],
      "metadata": {
        "colab": {
          "base_uri": "https://localhost:8080/"
        },
        "id": "MoVApdm0JwuS",
        "outputId": "79988b8c-c5e1-4632-fca0-232b7eaa1c2d"
      },
      "execution_count": null,
      "outputs": [
        {
          "output_type": "execute_result",
          "data": {
            "text/plain": [
              "array([0., 0., 0., 0., 1., 0., 0., 0., 0., 0.])"
            ]
          },
          "metadata": {},
          "execution_count": 6
        }
      ]
    },
    {
      "cell_type": "markdown",
      "source": [
        "### Task 3\n",
        "- Reverse a vector"
      ],
      "metadata": {
        "id": "txUixoC9InJY"
      }
    },
    {
      "cell_type": "code",
      "source": [
        "arange = np.arange(10)  # 0~9 초기화\n",
        "reversed = np.flip(arange)  # 역순으로 뒤집기\n",
        "reversed"
      ],
      "metadata": {
        "colab": {
          "base_uri": "https://localhost:8080/"
        },
        "id": "YUcwCxyyI19_",
        "outputId": "0d2d2f15-9d59-412c-e909-1633080ca3f0"
      },
      "execution_count": null,
      "outputs": [
        {
          "output_type": "execute_result",
          "data": {
            "text/plain": [
              "array([9, 8, 7, 6, 5, 4, 3, 2, 1, 0])"
            ]
          },
          "metadata": {},
          "execution_count": 8
        }
      ]
    },
    {
      "cell_type": "markdown",
      "source": [
        "### Task 4\n",
        "- Create a 3x3 matrix with values ranging from 0 to 8"
      ],
      "metadata": {
        "id": "b5RywOqzInOD"
      }
    },
    {
      "cell_type": "code",
      "source": [
        "np.arange(9).reshape((3, 3))  # 0~8 초기화 후 3X3으로 reshape"
      ],
      "metadata": {
        "colab": {
          "base_uri": "https://localhost:8080/"
        },
        "id": "FphQE7TvJCRr",
        "outputId": "9ae8dd1a-c316-4d76-a980-c22e3c5945ae"
      },
      "execution_count": null,
      "outputs": [
        {
          "output_type": "execute_result",
          "data": {
            "text/plain": [
              "array([[0, 1, 2],\n",
              "       [3, 4, 5],\n",
              "       [6, 7, 8]])"
            ]
          },
          "metadata": {},
          "execution_count": 9
        }
      ]
    },
    {
      "cell_type": "markdown",
      "source": [
        "### Task 5\n",
        "- Create a 5x5 matrix with row values ranging from 0 to 4  \n",
        "- Requirements: Use only np.zeros and np.arange"
      ],
      "metadata": {
        "id": "cz0W7PxtInRL"
      }
    },
    {
      "cell_type": "code",
      "source": [
        "zeros = np.zeros((5, 5)) # 5x5 0으로 초기화\n",
        "\n",
        "# row 개수만큼 반복하면서 0~4 ndarray를 재할당\n",
        "for i in range(zeros.shape[0]):\n",
        "        zeros[i] = np.arange(5)\n",
        "zeros"
      ],
      "metadata": {
        "colab": {
          "base_uri": "https://localhost:8080/"
        },
        "id": "RJg1RktxJAao",
        "outputId": "72b6d3b8-a16e-43a9-b823-987baa414fb5"
      },
      "execution_count": null,
      "outputs": [
        {
          "output_type": "execute_result",
          "data": {
            "text/plain": [
              "array([[0., 1., 2., 3., 4.],\n",
              "       [0., 1., 2., 3., 4.],\n",
              "       [0., 1., 2., 3., 4.],\n",
              "       [0., 1., 2., 3., 4.],\n",
              "       [0., 1., 2., 3., 4.]])"
            ]
          },
          "metadata": {},
          "execution_count": 10
        }
      ]
    },
    {
      "cell_type": "markdown",
      "source": [
        "### Task 6\n",
        "- Create a 3D array with zeros along the second axis"
      ],
      "metadata": {
        "id": "IGKweDltInTs"
      }
    },
    {
      "cell_type": "markdown",
      "source": [
        "### Task 7\n",
        "- Given the following two arrays, add them\n",
        "\n",
        "```python\n",
        "array = np.array([\n",
        "        [3, 2, 8],\n",
        "        [4, 12, 34],\n",
        "        [23, 12, 67]\n",
        "])\n",
        "newRow = np.array([2, 1, 8])\n",
        "```\n"
      ],
      "metadata": {
        "id": "YFVW6_3NJN7F"
      }
    },
    {
      "cell_type": "code",
      "source": [
        "array = np.array([\n",
        "        [3, 2, 8],\n",
        "        [4, 12, 34],\n",
        "        [23, 12, 67]\n",
        "])\n",
        "newRow = np.array([2, 1, 8])\n",
        "\n",
        "concatenate = np.vstack((array, newRow)) # 수직방향으로 ndarr 추가\n",
        "concatenate"
      ],
      "metadata": {
        "colab": {
          "base_uri": "https://localhost:8080/"
        },
        "id": "4VKWJKxdJUK2",
        "outputId": "912681a6-9cd8-493c-9e79-8de79c9d39d1"
      },
      "execution_count": null,
      "outputs": [
        {
          "output_type": "execute_result",
          "data": {
            "text/plain": [
              "array([[ 3,  2,  8],\n",
              "       [ 4, 12, 34],\n",
              "       [23, 12, 67],\n",
              "       [ 2,  1,  8]])"
            ]
          },
          "metadata": {},
          "execution_count": 11
        }
      ]
    },
    {
      "cell_type": "markdown",
      "source": [
        "### Task 8\n",
        "- Given the following arrays, calculate ((A+B)*(-A/2))\n",
        "- Requirements: Use add(), multiply() and other functions\n"
      ],
      "metadata": {
        "id": "cFW0183SJP4_"
      }
    },
    {
      "cell_type": "code",
      "source": [
        "A = np.ones(3) * 1\n",
        "B = np.ones(3) * 2\n",
        "\n",
        "# ((A+B)*(-A/2))\n",
        "multiply = np.multiply(np.add(A, B), -A / 2)\n",
        "multiply"
      ],
      "metadata": {
        "colab": {
          "base_uri": "https://localhost:8080/"
        },
        "id": "7rFtCTW4JYZ8",
        "outputId": "ddb95997-6638-4ce3-c7d0-f365de263ccc"
      },
      "execution_count": null,
      "outputs": [
        {
          "output_type": "execute_result",
          "data": {
            "text/plain": [
              "array([-1.5, -1.5, -1.5])"
            ]
          },
          "metadata": {},
          "execution_count": 12
        }
      ]
    },
    {
      "cell_type": "markdown",
      "source": [
        "### Task 9\n",
        "- Calculate mean of each row of the list"
      ],
      "metadata": {
        "id": "lmKC11RIJQBl"
      }
    },
    {
      "cell_type": "code",
      "source": [
        "list = [\n",
        "  np.array([3, 2, 8, 9]),\n",
        "  np.array([4, 12, 34, 25, 78]),\n",
        "  np.array([23, 12, 67])\n",
        "]\n",
        "\n",
        "[np.mean(list[i]) for i in range(len(list))] # list 개수만큼 반복하면서 평균 계산"
      ],
      "metadata": {
        "colab": {
          "base_uri": "https://localhost:8080/"
        },
        "id": "5Y56EGGhMGdn",
        "outputId": "4ef74324-b13f-4d8c-9eec-9ab9d783c69c"
      },
      "execution_count": null,
      "outputs": [
        {
          "output_type": "execute_result",
          "data": {
            "text/plain": [
              "[5.5, 30.6, 34.0]"
            ]
          },
          "metadata": {},
          "execution_count": 13
        }
      ]
    },
    {
      "cell_type": "markdown",
      "source": [
        "### Task 10 (Optional)\n",
        "- How to print the following pattern of nxn using NumPy?\n"
      ],
      "metadata": {
        "id": "WIiZmE4MJQJG"
      }
    },
    {
      "cell_type": "code",
      "source": [
        "zeros = np.zeros((8,8)) # 8,8 0으로 초기화\n",
        "\n",
        "for i in range(zeros.shape[0]):\n",
        "    is_odd_row = i % 2 == 1  # 홀수 행인지 확인\n",
        "    for j in range(zeros.shape[1]):\n",
        "      if is_odd_row and j % 2 == 0:\n",
        "        zeros[i, j] = 1\n",
        "      elif not is_odd_row and j % 2 == 1:\n",
        "        zeros[i, j] = 1\n",
        "\n",
        "zeros"
      ],
      "metadata": {
        "colab": {
          "base_uri": "https://localhost:8080/"
        },
        "id": "-xjRXEmVJe-W",
        "outputId": "cf30cc5b-406b-486a-f9b1-f514a5ef2ba2"
      },
      "execution_count": null,
      "outputs": [
        {
          "output_type": "execute_result",
          "data": {
            "text/plain": [
              "array([[0., 1., 0., 1., 0., 1., 0., 1.],\n",
              "       [1., 0., 1., 0., 1., 0., 1., 0.],\n",
              "       [0., 1., 0., 1., 0., 1., 0., 1.],\n",
              "       [1., 0., 1., 0., 1., 0., 1., 0.],\n",
              "       [0., 1., 0., 1., 0., 1., 0., 1.],\n",
              "       [1., 0., 1., 0., 1., 0., 1., 0.],\n",
              "       [0., 1., 0., 1., 0., 1., 0., 1.],\n",
              "       [1., 0., 1., 0., 1., 0., 1., 0.]])"
            ]
          },
          "metadata": {},
          "execution_count": 16
        }
      ]
    }
  ]
}